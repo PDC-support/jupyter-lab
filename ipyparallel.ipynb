{
 "cells": [
  {
   "cell_type": "code",
   "execution_count": 3,
   "metadata": {},
   "outputs": [
    {
     "name": "stdout",
     "output_type": "stream",
     "text": [
      "/cfs/klemming/nobackup/l/lxin/support/jupyter-lab/cities\n"
     ]
    }
   ],
   "source": [
    "cd cities"
   ]
  },
  {
   "cell_type": "code",
   "execution_count": 16,
   "metadata": {},
   "outputs": [],
   "source": [
    "# prepare ipyparallel\n",
    "\n",
    "import ipyparallel as ipp\n",
    "client = ipp.Client()\n",
    "dview = client[:]"
   ]
  },
  {
   "cell_type": "code",
   "execution_count": 17,
   "metadata": {},
   "outputs": [],
   "source": [
    "# prepare data as a list of tuples(latitude_1, latitude_2, longitude_1, longitude_2)\n",
    "\n",
    "import dist_cities as dc\n",
    "cities = dc.read_cities()\n",
    "coord_pairs = dc.create_coord_pairs(cities)"
   ]
  },
  {
   "cell_type": "code",
   "execution_count": 21,
   "metadata": {},
   "outputs": [],
   "source": [
    "import math\n",
    "\n",
    "def calc_dist(coord_pair):\n",
    "\n",
    "    \"\"\"Calculate the distance from a coordinate pair (latitude_1, latitude_2,\n",
    "    longitude_1, longitude_2)\"\"\"\n",
    "\n",
    "    p1 = coord_pair[0] / 180.0 * math.pi\n",
    "    p2 = coord_pair[1] / 180.0 * math.pi\n",
    "\n",
    "    cp1 = math.cos(p1)\n",
    "    cp2 = math.cos(p2)\n",
    "\n",
    "    dp = p2 - p1\n",
    "\n",
    "    dL = (coord_pair[2] - coord_pair[3]) / 180.0 * math.pi\n",
    "\n",
    "    a = math.sin(dp/2) **2 + cp1 * cp2 * math.sin(dL/2) **2\n",
    "    c = 2.0 * math.atan2(math.sqrt(a), math.sqrt(1.0 - a))\n",
    "\n",
    "    R = 6371 # radius of Earth in km\n",
    "\n",
    "    return R*c"
   ]
  },
  {
   "cell_type": "code",
   "execution_count": 22,
   "metadata": {},
   "outputs": [
    {
     "data": {
      "text/plain": [
       "<AsyncResult: execute>"
      ]
     },
     "execution_count": 22,
     "metadata": {},
     "output_type": "execute_result"
    }
   ],
   "source": [
    "dview.execute('import math')"
   ]
  },
  {
   "cell_type": "code",
   "execution_count": 23,
   "metadata": {},
   "outputs": [
    {
     "name": "stdout",
     "output_type": "stream",
     "text": [
      "19983.405422311647\n",
      "19983.405422311647\n",
      "19983.405422311647\n",
      "19983.405422311647\n",
      "19983.405422311647\n",
      "19983.405422311647\n",
      "19983.405422311647\n",
      "19983.405422311647\n",
      "657 ms ± 23.5 ms per loop (mean ± std. dev. of 7 runs, 1 loop each)\n"
     ]
    }
   ],
   "source": [
    "%%timeit\n",
    "output = dview.map_sync(calc_dist, coord_pairs)\n",
    "print(max(output))"
   ]
  },
  {
   "cell_type": "code",
   "execution_count": 24,
   "metadata": {},
   "outputs": [
    {
     "name": "stdout",
     "output_type": "stream",
     "text": [
      "19983.405422311647\n",
      "19983.405422311647\n",
      "19983.405422311647\n",
      "19983.405422311647\n",
      "19983.405422311647\n",
      "19983.405422311647\n",
      "19983.405422311647\n",
      "19983.405422311647\n",
      "804 ms ± 2.16 ms per loop (mean ± std. dev. of 7 runs, 1 loop each)\n"
     ]
    }
   ],
   "source": [
    "%%timeit\n",
    "output = [calc_dist(p) for p in coord_pairs]\n",
    "print(max(output))"
   ]
  },
  {
   "cell_type": "code",
   "execution_count": null,
   "metadata": {},
   "outputs": [],
   "source": []
  }
 ],
 "metadata": {
  "kernelspec": {
   "display_name": "Python 3",
   "language": "python",
   "name": "python3"
  },
  "language_info": {
   "codemirror_mode": {
    "name": "ipython",
    "version": 3
   },
   "file_extension": ".py",
   "mimetype": "text/x-python",
   "name": "python",
   "nbconvert_exporter": "python",
   "pygments_lexer": "ipython3",
   "version": "3.7.0"
  }
 },
 "nbformat": 4,
 "nbformat_minor": 2
}
