{
 "cells": [
  {
   "cell_type": "markdown",
   "metadata": {},
   "source": [
    "# Jupyter Notebooks on Tetralith\n",
    "\n",
    "Jupyter Notebooks have become a mainstream tool for interactive computing in every field of science. Jupyter is slowly making its way into HPC, and NSC now offers access to Jupyter on the Tetralith cluster."
   ]
  },
  {
   "cell_type": "markdown",
   "metadata": {},
   "source": [
    "## Contents\n",
    "\n",
    "- [Starting Jupyter under ThinLinc](#Starting-Jupyter-under-ThinLinc-at-NSC)\n",
    " - [Running a notebook on a login node](#Running-a-notebook-on-a-login-node)\n",
    " - [Running a notebook on a compute node](#Running-a-notebook-on-a-compute-node)\n",
    "- [Starting Jupyter using an ssh tunnel](#Starting-Jupyter-using-an-ssh-tunnel)\n",
    " - [Running a notebook on a login node](#Running-a-notebook-on-a-login-node)\n",
    "- [Optional: Jupyter configuration](#Jupyter-configuration)\n",
    "- [Optional: Setting a Jupyter password](#Optional:-Setting-a-Jupyter-password)\n",
    "- [Optional: Generate a SSL certificate](#Optional:-Generate-a-SSL-certificate)\n",
    "- [Fetch these sources](#Fetch-these-sources)"
   ]
  },
  {
   "cell_type": "markdown",
   "metadata": {},
   "source": [
    "## Starting Jupyter under ThinLinc at NSC\n",
    "\n",
    "Starting Jupyter under ThinLinc is done in a few simple steps."
   ]
  },
  {
   "cell_type": "markdown",
   "metadata": {},
   "source": [
    "### Running a notebook on a login node\n",
    "\n",
    "1. Start a terminal\n",
    "2. `tetralith~$ module load Python/3.6.3-anaconda-5.0.1-nsc1`\n",
    "3. `tetralith~$ jupyter-notebook`\n",
    "\n",
    "**Note**: only lightweight tasks should be performed on the login node, such as light visualization work and submitting jobs to the SLURM scheduler."
   ]
  },
  {
   "cell_type": "markdown",
   "metadata": {},
   "source": [
    "### Running a notebook on a compute node\n",
    "\n",
    "1. Start a terminal\n",
    "2. `tetralith~$ interactive -N 1 -t 120 -A snic2018-x-yy`\n",
    "3. `n1~$ module load Python/3.6.3-anaconda-5.0.1-nsc1`\n",
    "4. `n1~$ jupyter-notebook --no-browser --ip=n1`\n",
    "5. `tetralith~$ firefox`\n",
    "6. Copy the URL from the interactive terminal on n1 and paste it into firefox (not starting Firefox first, but just pressing Ctrl and clicking on the URL may also work)\n",
    "\n",
    "**Note**: The node name `n1` is just an example name. You should use the name of the node you get allocated for the `--ip` option."
   ]
  },
  {
   "cell_type": "markdown",
   "metadata": {},
   "source": [
    "## Starting Jupyter using an ssh tunnel\n",
    "\n",
    "If you would rather use a browser on your local laptop/desktop, you can instead use an ssh tunnel. *However, this currently only works for running notebooks on the login nodes.*"
   ]
  },
  {
   "cell_type": "markdown",
   "metadata": {},
   "source": [
    "### Running a notebook on a login node\n",
    "\n",
    "1. `mylaptop~$ ssh -L 9988:localhost:9988 x_abcde@tetralith.nsc.liu.se`\n",
    "2. `tetralith~$ module load Python/3.6.3-anaconda-5.0.1-nsc1`\n",
    "3. `tetralith~$ jupyter-notebook --port=9988 --no-browser`\n",
    "\n",
    "Then copy-and-paste the URL displayed in the terminal into a browser running on \"mylaptop\".\n",
    "\n",
    "**Note1**: The port 9988 is somewhat arbitrary but less risk to collide with other users than the default 8888. If 9988 is already in use, then just try 9989, etc.\n",
    "\n",
    "**Note2**: Picking the same (laptop) local port as on the login node allows the URL to be directly copy-and-pasted, but this is of course not strictly necessary.\n",
    "\n",
    "**Note3**: Only lightweight tasks should be performed on the login node, such as visualization work and submitting jobs to the SLURM scheduler."
   ]
  },
  {
   "cell_type": "markdown",
   "metadata": {},
   "source": [
    "## Fetch these sources"
   ]
  },
  {
   "cell_type": "markdown",
   "metadata": {},
   "source": [
    "Log in to Tetralith, clone the repository with the lesson material and checkout the `tetralith` branch:\n",
    "\n",
    "```bash\n",
    "$ ssh <username>@tetralith.nsc.liu.se\n",
    "$ git clone https://github.com/PDC-support/jupyter-notebook.git\n",
    "$ git checkout tetralith\n",
    "```"
   ]
  },
  {
   "cell_type": "markdown",
   "metadata": {},
   "source": [
    "## Optional: Jupyter configuration\n",
    "\n",
    "Various configuration options for Jupyter can be set by creating a config file:\n",
    "- Load the appropriate module:\n",
    "\n",
    "```bash\n",
    "$ module load Python/3.6.3-anaconda-5.0.1-nsc1\n",
    "```\n",
    "\n",
    "- Generate the configuration file `$HOME/.jupyter/jupyter_notebook_config.py`: \n",
    "\n",
    "```bash\n",
    "$ jupyter notebook --generate-config\n",
    "```\n",
    "\n",
    "The configuration file will have many lines with possible configuration options, but all of them will be commented out initially.\n",
    "\n",
    "In order to start IPython clusters and use `ipyparallel` to run parallel tasks in a Jupyter notebook, one also needs to generate an IPython config file:\n",
    "\n",
    "- Generate the configuration file `$HOME/.ipython/profile_default/ipython_config.py`: \n",
    "\n",
    "```bash\n",
    "$ ipython profile create\n",
    "```\n",
    "\n"
   ]
  },
  {
   "cell_type": "markdown",
   "metadata": {},
   "source": [
    "## Optional: Setting a Jupyter password\n",
    "\n",
    "- Create your Jupyter password by: \n",
    "\n",
    "```\n",
    "$ jupyter notebook password\n",
    "```\n",
    "\n",
    "- The entered password will be saved in hashed form in the file `$HOME/.jupyter/jupyter_notebook_config.json`."
   ]
  },
  {
   "cell_type": "markdown",
   "metadata": {},
   "source": [
    "## Optional: Generate a SSL certificate\n",
    "\n",
    "To enable higher security using the https protocol, you need to generate an SSL certificate.\n",
    "\n",
    "- Generate a self-signed certificate with openssl in a private directory:\n",
    "\n",
    "```bash\n",
    "$ cd $HOME/Private # some private folder\n",
    "$ openssl req -x509 -nodes -days 30 -newkey rsa:2048 -keyout mykey.key -out mycert.pem\n",
    "```\n",
    "\n",
    "- Add information on the certificate in your Jupyter config file $HOME/.jupyter/jupyter_notebook_config.py:\n",
    "\n",
    "```python\n",
    "c.NotebookApp.certfile = u'/home/x_abcde/Private/mycert.pem'\n",
    "c.NotebookApp.keyfile = u'/home/x_abcde/Private/mykey.key'\n",
    "```\n",
    "\n",
    "- After these steps, the URL that shows up in the output of the jupyter-notebook command should be https. Your browser will likely complain that your self-signed certificate is not secure or not recognized (since it is self-signed). Tell it to proceed anyways."
   ]
  },
  {
   "cell_type": "markdown",
   "metadata": {},
   "source": [
    "## Fetch these sources"
   ]
  },
  {
   "cell_type": "markdown",
   "metadata": {},
   "source": [
    "Log in to Tetralith, clone the repository with the lesson material and checkout the `tetralith` branch:\n",
    "\n",
    "```bash\n",
    "$ ssh <username>@tetralith.nsc.liu.se\n",
    "$ git clone https://github.com/PDC-support/jupyter-notebook.git\n",
    "$ git checkout tetralith\n",
    "```"
   ]
  }
 ],
 "metadata": {
  "kernelspec": {
   "display_name": "Python 3",
   "language": "python",
   "name": "python3"
  },
  "language_info": {
   "codemirror_mode": {
    "name": "ipython",
    "version": 3
   },
   "file_extension": ".py",
   "mimetype": "text/x-python",
   "name": "python",
   "nbconvert_exporter": "python",
   "pygments_lexer": "ipython3",
   "version": "3.6.3"
  }
 },
 "nbformat": 4,
 "nbformat_minor": 2
}
