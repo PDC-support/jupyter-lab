{
 "cells": [
  {
   "cell_type": "markdown",
   "metadata": {},
   "source": [
    "# Running SLURM jobs from a notebook"
   ]
  },
  {
   "cell_type": "markdown",
   "metadata": {},
   "source": [
    "One possible use case of Jupyter Notebooks in an HPC environment is to manage SLURM jobs and to monitor/visualize results from running jobs.  \n",
    "\n",
    "In this lesson, we will have a look at **Slurm magics** to manage jobs and **interactive analysis** of running jobs."
   ]
  },
  {
   "cell_type": "markdown",
   "metadata": {},
   "source": [
    "## Contents\n",
    "\n",
    "- [SLURM magics](#SLURM-magics)\n",
    "    - [Using SLURM magics](#Using-SLURM-magics)\n",
    "- [Submitting and analyzing jobs](#Submitting-a-job-and-analyzing-results-on-the-fly)\n",
    "    - [GROMACS as an example](#GROMACS-as-an-example)\n",
    "    - [<font color=\"red\"> Exercise 2.1](#exercise21)"
   ]
  },
  {
   "cell_type": "markdown",
   "metadata": {},
   "source": [
    "## SLURM magics"
   ]
  },
  {
   "cell_type": "markdown",
   "metadata": {},
   "source": [
    "- Developed at [NERSC](http://www.nersc.gov/) (sources [here](https://github.com/NERSC/slurm-magic))\n",
    "- Implements Jupyter magic commands for interacting with the SLURM workload manager\n",
    "- Commands are spawned via `subprocess` and output captured in the notebook\n",
    "- Arguments accepted by a SLURM command are also accepted by the corresponding magic command\n",
    "\n",
    "> *\"I’ll never have to leave a notebook again, that’s like the ultimate dream\"*  \n",
    "> (Anonymous SLURM-magic user)"
   ]
  },
  {
   "cell_type": "markdown",
   "metadata": {},
   "source": [
    "### Using SLURM magics"
   ]
  },
  {
   "cell_type": "markdown",
   "metadata": {},
   "source": [
    "The Python package ``slurm-magic`` is available in the ``prace`` environment:\n",
    "\n",
    "```bash\n",
    "$ module load anaconda/py36/5.0.1\n",
    "$ source activate prace\n",
    "$ jupyter-notebook\n",
    "```"
   ]
  },
  {
   "cell_type": "markdown",
   "metadata": {},
   "source": [
    "In the notebook, we then need to load the IPython extension: "
   ]
  },
  {
   "cell_type": "code",
   "execution_count": null,
   "metadata": {},
   "outputs": [],
   "source": [
    "%load_ext slurm_magic"
   ]
  },
  {
   "cell_type": "markdown",
   "metadata": {},
   "source": [
    "We can check the newly added magics provided by ``slurm-magic``:"
   ]
  },
  {
   "cell_type": "code",
   "execution_count": null,
   "metadata": {},
   "outputs": [],
   "source": [
    "%lsmagic"
   ]
  },
  {
   "cell_type": "markdown",
   "metadata": {},
   "source": [
    "and try them out:"
   ]
  },
  {
   "cell_type": "code",
   "execution_count": null,
   "metadata": {},
   "outputs": [],
   "source": [
    "%squeue"
   ]
  },
  {
   "cell_type": "code",
   "execution_count": null,
   "metadata": {},
   "outputs": [],
   "source": [
    "%sinfo"
   ]
  },
  {
   "cell_type": "markdown",
   "metadata": {},
   "source": [
    "We can also bring up a help menu by using a question mark:"
   ]
  },
  {
   "cell_type": "code",
   "execution_count": null,
   "metadata": {},
   "outputs": [],
   "source": [
    "%squeue?"
   ]
  },
  {
   "cell_type": "markdown",
   "metadata": {},
   "source": [
    "## Submitting a job and analyzing results on the fly"
   ]
  },
  {
   "cell_type": "markdown",
   "metadata": {},
   "source": [
    "### GROMACS as an example"
   ]
  },
  {
   "cell_type": "markdown",
   "metadata": {},
   "source": [
    "[GROMACS](http://www.gromacs.org/) is a molecular dynamics simulation package designed for simulations of biological macromolecules (proteins, lipids, nucleic acids, etc.).\n",
    "\n",
    "In this exercise we use [lysozyme in water](http://www.mdtutorials.com/gmx/lysozyme/index.html) as a model system to demonstrate how to use Jupyter notebook to submit jobs and analyze results.\n",
    "\n",
    "First, go to the ``gromacs_job`` folder"
   ]
  },
  {
   "cell_type": "code",
   "execution_count": null,
   "metadata": {},
   "outputs": [],
   "source": [
    "%cd gromacs_job"
   ]
  },
  {
   "cell_type": "markdown",
   "metadata": {},
   "source": [
    "and check that the input files (.mdp, .top and .gro) are in the folder"
   ]
  },
  {
   "cell_type": "code",
   "execution_count": null,
   "metadata": {},
   "outputs": [],
   "source": [
    "%ls"
   ]
  },
  {
   "cell_type": "markdown",
   "metadata": {},
   "source": [
    "Then, use the ``%%sbatch`` cell magic to submit a GROMACS job"
   ]
  },
  {
   "cell_type": "code",
   "execution_count": null,
   "metadata": {},
   "outputs": [],
   "source": [
    "%%sbatch\n",
    "#!/bin/bash -l\n",
    "#SBATCH -A 20XX-YY-ZZ\n",
    "#SBATCH -N 1\n",
    "#SBATCH -t 00:05:00\n",
    "#SBATCH -J gromacs\n",
    "module load gromacs/2018.3\n",
    "gmx_seq grompp -f npt.mdp -c start.gro -p topol.top\n",
    "gmx_seq mdrun -s topol.tpr -deffnm npt"
   ]
  },
  {
   "cell_type": "markdown",
   "metadata": {},
   "source": [
    "Monitor your job with the ``%squeue`` line magic"
   ]
  },
  {
   "cell_type": "code",
   "execution_count": null,
   "metadata": {},
   "outputs": [],
   "source": [
    "%squeue -u username"
   ]
  },
  {
   "cell_type": "markdown",
   "metadata": {},
   "source": [
    "As the simulation goes on, the output files will be constantly updated. You can start to analyze the output files and monitor the progress of the simulation."
   ]
  },
  {
   "cell_type": "markdown",
   "metadata": {},
   "source": [
    "Gromacs has many utility programs for extracting information from the binary output files, and to run it we need to load the Gromacs module and call the `gmx_seq energy` program for each property we wish to analyze. We use the %%bash magic to let Jupyter run these as a shell script:"
   ]
  },
  {
   "cell_type": "code",
   "execution_count": null,
   "metadata": {},
   "outputs": [],
   "source": [
    "%%bash\n",
    "\n",
    "module load gromacs/2018.3\n",
    "echo \"Temperature\" | gmx_seq energy -f npt.edr -o temperature.xvg\n",
    "echo \"Density\" | gmx_seq energy -f npt.edr -o density.xvg\n",
    "echo \"Pressure\" | gmx_seq energy -f npt.edr -o pressure.xvg"
   ]
  },
  {
   "cell_type": "markdown",
   "metadata": {},
   "source": [
    "Let's define a function to extract data from the processed Gromacs xvg files"
   ]
  },
  {
   "cell_type": "code",
   "execution_count": null,
   "metadata": {},
   "outputs": [],
   "source": [
    "def get_prop(prop):\n",
    "    \"\"\"Extract system property (Temperature, Pressure, Potential, or Density)\n",
    "    from a GROMACS xvg file. Returns lists of time and property.\"\"\"\n",
    "\n",
    "    x = []\n",
    "    y = []\n",
    "\n",
    "    f_prop = open(\"%s.xvg\" % prop, 'r')\n",
    "    for line in f_prop:\n",
    "        if line[0] == '#' or line[0] == '@':\n",
    "            continue\n",
    "        content = line.split()\n",
    "        x.append(float(content[0]))\n",
    "        y.append(float(content[1]))\n",
    "    f_prop.close()\n",
    "\n",
    "    return x,y"
   ]
  },
  {
   "cell_type": "markdown",
   "metadata": {},
   "source": [
    "Now import matplotlib and specify how plots should be displayed in the notebook:"
   ]
  },
  {
   "cell_type": "code",
   "execution_count": null,
   "metadata": {},
   "outputs": [],
   "source": [
    "import matplotlib.pyplot as plt\n",
    "%matplotlib inline"
   ]
  },
  {
   "cell_type": "markdown",
   "metadata": {},
   "source": [
    "and examine the evolution of density with respect to simulation time"
   ]
  },
  {
   "cell_type": "code",
   "execution_count": null,
   "metadata": {},
   "outputs": [],
   "source": [
    "time,dens = get_prop(\"density\")\n",
    "plt.plot(time,dens)"
   ]
  },
  {
   "cell_type": "markdown",
   "metadata": {},
   "source": [
    "Note that the default unit is kg/m<sup>3</sup> for density and ps for simulationt time. You may improve the plot by adding ``xlabel``, ``ylabel``, etc."
   ]
  },
  {
   "cell_type": "code",
   "execution_count": null,
   "metadata": {},
   "outputs": [],
   "source": [
    "plt.xlabel('Simulation time [ps]')\n",
    "plt.ylabel('Density [kg/m$^3$]')\n",
    "plt.plot(time,dens)"
   ]
  },
  {
   "cell_type": "markdown",
   "metadata": {},
   "source": [
    "We can also examine the evolution of pressure with respect to time"
   ]
  },
  {
   "cell_type": "code",
   "execution_count": null,
   "metadata": {},
   "outputs": [],
   "source": [
    "time,pres = get_prop(\"pressure\")\n",
    "plt.plot(time,pres)"
   ]
  },
  {
   "cell_type": "markdown",
   "metadata": {},
   "source": [
    "Also look at the correlation between density and pressure"
   ]
  },
  {
   "cell_type": "code",
   "execution_count": null,
   "metadata": {},
   "outputs": [],
   "source": [
    "plt.plot(dens,pres[:len(dens)],'b+')"
   ]
  },
  {
   "cell_type": "markdown",
   "metadata": {},
   "source": [
    "<a id='exercise21'></a>"
   ]
  },
  {
   "cell_type": "markdown",
   "metadata": {},
   "source": [
    "### <font color=\"red\"> Exercise 2.1"
   ]
  },
  {
   "cell_type": "markdown",
   "metadata": {},
   "source": [
    "In this exercise, you will compile the hello-world MPI code, submit a batch job and have a look at the output. \n",
    "\n",
    "Try to do all the steps below from within this notebook:\n",
    "\n",
    "1. Start by creating a new directory called `hello-world` under the `jupyter-notebook` directory (you may need `%cd ..` first), and `cd` into it.\n",
    "2. Copy-paste the hello-world MPI code in C from [the HPC-Intro lesson](https://pdc-support.github.io/hpc-intro/08-compiling/#mpi-parallelized-code) into a code cell (**don't execute it yet**).\n",
    "3. Add the `%%writefile hello_mpi.c` cell magic command at the top of the cell, and execute it.\n",
    "4. Check that you have indeed created the file in the right directory (`%pwd` and `%ls` are your friends).\n",
    "5. Compile the code using `mpicc -o hello_mpi hello_mpi.c`. Check that the executable has been created.\n",
    "6. Write a new batch script in a cell (or copy-paste the cell from the [Gromacs section above](#GROMACS-as-an-example) using `c` and `v`). It should: \n",
    "    - request 1 node for 5 minutes using the edu18.prace allocation\n",
    "    - load the `gcc/7.2.0` and `openmpi/3.0-gcc-7.2` modules \n",
    "    - execute your executable using `mpirun -n 24 ./hello_mpi > hello.out`\n",
    "7. Submit the job using the `%%sbatch` magic, monitor the job using `squeue -u <username>` and inspect the output file. "
   ]
  },
  {
   "cell_type": "code",
   "execution_count": null,
   "metadata": {},
   "outputs": [],
   "source": []
  }
 ],
 "metadata": {
  "kernelspec": {
   "display_name": "Python 3",
   "language": "python",
   "name": "python3"
  },
  "language_info": {
   "codemirror_mode": {
    "name": "ipython",
    "version": 3
   },
   "file_extension": ".py",
   "mimetype": "text/x-python",
   "name": "python",
   "nbconvert_exporter": "python",
   "pygments_lexer": "ipython3",
   "version": "3.7.0"
  }
 },
 "nbformat": 4,
 "nbformat_minor": 2
}
