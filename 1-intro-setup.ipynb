{
 "cells": [
  {
   "cell_type": "markdown",
   "metadata": {},
   "source": [
    "# Jupyter Notebook"
   ]
  },
  {
   "cell_type": "markdown",
   "metadata": {},
   "source": [
    "## Introduction"
   ]
  },
  {
   "cell_type": "markdown",
   "metadata": {},
   "source": [
    "+ What is Jupyter notebook?"
   ]
  },
  {
   "cell_type": "markdown",
   "metadata": {},
   "source": [
    "+ Why do we want to use Jupyter notebook?"
   ]
  },
  {
   "cell_type": "markdown",
   "metadata": {},
   "source": [
    "+ Features?"
   ]
  },
  {
   "cell_type": "markdown",
   "metadata": {},
   "source": [
    "## Setting up Jupyter notebook"
   ]
  },
  {
   "cell_type": "markdown",
   "metadata": {},
   "source": [
    "+ Load module ``anaconda/py36/5.0.1`` and activate the ``prace`` environment.\n",
    "```\n",
    "module load anaconda/py36/5.0.1\n",
    "source activate prace\n",
    "```\n",
    "\n",
    "+ Create your password for Jupyter notebook **(Security measure #1)** \n",
    "```\n",
    "jupyter notebook password\n",
    "```\n",
    "\n",
    "+ Generate a self-signed certificate with ``openssl`` **(Security measure #2)** \n",
    "```\n",
    "openssl req -x509 -nodes -days 30 -newkey rsa:2048 -keyout mykey.key -out mycert.pem\n",
    "```\n",
    "\n",
    "+ Start Jupyter notebook with port, host IP, and secure protocol\n",
    "```\n",
    "ipnport=$(shuf -i8000-9999 -n1)\n",
    "ipnip=$(hostname -i)\n",
    "jupyter-notebook --no-browser --port=$ipnport --ip=$ipnip --certfile=mycert.pem --keyfile mykey.key\n",
    "```\n",
    "\n",
    "+ Jupyter notebook will print output like\n",
    "```\n",
    "The Jupyter Notebook is running at:\n",
    "https://<IP.address>:<port>/\n",
    "```\n",
    "\n",
    "+ Copy the **https** link to your browser. Your browser will likely complain that your self-signed certificate is not secure or not recognized. Tell it to proceed anyways.\n",
    "\n",
    "\n",
    "+ The notebook is ready for use after entering your password!"
   ]
  }
 ],
 "metadata": {
  "kernelspec": {
   "display_name": "Python 3",
   "language": "python",
   "name": "python3"
  },
  "language_info": {
   "codemirror_mode": {
    "name": "ipython",
    "version": 3
   },
   "file_extension": ".py",
   "mimetype": "text/x-python",
   "name": "python",
   "nbconvert_exporter": "python",
   "pygments_lexer": "ipython3",
   "version": "3.7.0"
  }
 },
 "nbformat": 4,
 "nbformat_minor": 2
}
