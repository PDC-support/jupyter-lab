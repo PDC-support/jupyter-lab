{
 "cells": [
  {
   "cell_type": "markdown",
   "metadata": {},
   "source": [
    "# Basics of Jupyter Notebooks"
   ]
  },
  {
   "cell_type": "markdown",
   "metadata": {},
   "source": [
    "## Contents\n",
    "- [Navigating Jupyter notebooks](#Navigating-Jupyter-notebooks)\n",
    "- [Cells](#Cells)\n",
    "    - [Markdown cells](#Markdown-cells)\n",
    "    - [Code cells](#Code-cells)\n",
    "- [Working with notebooks](#Working-with-notebooks)\n",
    "    - [Some Jupyter features](#Some-Jupyter-features)\n",
    "    - [Shell commands](#Shell-commands)\n",
    "    - [Interactive plotting](#Interactive-plotting)\n",
    "    - [More interactive plotting using widgets](#More-interactive-plotting-using-widgets)\n",
    "    - [Keyboard shortcuts](#Keyboard-shortcuts)\n",
    "    - [Exercise](#exercise)\n",
    "    - [Magics](#Magics)\n",
    "- [Use cases](#Use-cases)\n",
    "- [When not to use notebooks?](#When-not-to-use-notebooks?)"
   ]
  },
  {
   "cell_type": "markdown",
   "metadata": {},
   "source": [
    "## Navigating Jupyter notebooks\n",
    " - Notebook Dashboard\n",
    "   * `Files` tab shows files in current directory\n",
    "   * `Running` tab shows kernels running on your computer\n",
    "   * `Clusters` tab lets you launch kernels for parallel computing\n",
    " - Fully-fledged terminal (you can run emacs and vi)\n",
    " - Text editor for source code in many different languages  \n",
    " "
   ]
  },
  {
   "cell_type": "markdown",
   "metadata": {},
   "source": [
    "## Cells\n",
    "\n",
    "- **Markdown cells** contain formatted text written in Markdown \n",
    "- **Code cells** contain code to be interpreted by the *kernel* (Python, R, Julia, Octave/Matlab...)\n",
    "\n",
    "![Components](img/notebook_components.png)"
   ]
  },
  {
   "cell_type": "markdown",
   "metadata": {},
   "source": [
    "### Markdown cells\n",
    "\n",
    "This cell contains simple [markdown](https://daringfireball.net/projects/markdown/syntax), a simple language for writing text that can be automatically converted to other formats, e.g. HTML, LaTeX or any of a number of others.\n",
    "\n",
    "**Bold**, *italics*, **_combined_**, ~~strikethrough~~, `inline code`.\n",
    "\n",
    "* bullet points\n",
    "\n",
    "or\n",
    "\n",
    "1. numbered\n",
    "3. lists\n",
    "\n",
    "**Equations:**   \n",
    "inline $e^{i\\pi} + 1 = 0$\n",
    "or on new line  \n",
    "$$e^{i\\pi} + 1 = 0$$\n",
    "\n",
    "Images ![Beskow](img/triolith.jpg)\n",
    "\n",
    "Links:  \n",
    "[One of many markdown cheat-sheets](https://github.com/adam-p/markdown-here/wiki/Markdown-Cheatsheet#emphasis)\n"
   ]
  },
  {
   "cell_type": "markdown",
   "metadata": {},
   "source": [
    "### Code cells"
   ]
  },
  {
   "cell_type": "code",
   "execution_count": null,
   "metadata": {},
   "outputs": [],
   "source": [
    "# a code cell can run statements of code.\n",
    "# when you run this cell, the output is sent \n",
    "# from the web page to a back-end process, run \n",
    "# and the results are displayed to you\n",
    "print(\"hello world\")"
   ]
  },
  {
   "cell_type": "markdown",
   "metadata": {},
   "source": [
    "## Working with notebooks\n",
    "\n",
    "Jupyter notebooks have some nice advantages:\n",
    "\n",
    "- Excels at [literate programming](https://en.wikipedia.org/wiki/Literate_programming)\n",
    "- Many features of integrated development environment (IDE): code completion, easy access to help\n",
    "- [Support for many programming languages](https://github.com/jupyter/jupyter/wiki/Jupyter-kernels)"
   ]
  },
  {
   "cell_type": "markdown",
   "metadata": {},
   "source": [
    "### Some Jupyter features\n",
    "- Toggle between code and markdown cells\n",
    "- Edit mode and Command mode\n",
    "- Executing a cell\n",
    "- Inserting, copying, pasting and removing cells\n",
    "- Execution order - prompt numbers\n",
    "- Meaning of _\n",
    "- Getting help with ?"
   ]
  },
  {
   "cell_type": "code",
   "execution_count": null,
   "metadata": {
    "collapsed": true
   },
   "outputs": [],
   "source": [
    "# enter code here!"
   ]
  },
  {
   "cell_type": "markdown",
   "metadata": {},
   "source": [
    "### Shell commands\n",
    "  - You can run shell commands by prepending with !\n",
    "  - Remember to make sure your cell command doesn't require interaction"
   ]
  },
  {
   "cell_type": "code",
   "execution_count": null,
   "metadata": {},
   "outputs": [],
   "source": [
    "!echo \"hello\""
   ]
  },
  {
   "cell_type": "markdown",
   "metadata": {},
   "source": [
    "### Interactive plotting"
   ]
  },
  {
   "cell_type": "markdown",
   "metadata": {},
   "source": [
    "Jupyter supports interactive plotting with matplotlib and other visualization libraries (including for other languages). Matplotlib can be used with different backends, which will make the plots appear differently in the Notebook"
   ]
  },
  {
   "cell_type": "code",
   "execution_count": 3,
   "metadata": {},
   "outputs": [
    {
     "data": {
      "image/png": "[encoded data removed]",
      "text/plain": [
       "<matplotlib.figure.Figure at 0x7f7ef462a7b8>"
      ]
     },
     "metadata": {},
     "output_type": "display_data"
    }
   ],
   "source": [
    "#%matplotlib notebook\n",
    "%matplotlib inline\n",
    "\n",
    "import numpy as np\n",
    "import matplotlib.pyplot as plt\n",
    "x = np.linspace(0,2*np.pi,100)\n",
    "y = np.sin(x)\n",
    "plt.plot(x,y, 'r-')\n",
    "plt.show()"
   ]
  },
  {
   "cell_type": "markdown",
   "metadata": {},
   "source": [
    "### More interactive plotting using widgets"
   ]
  },
  {
   "cell_type": "markdown",
   "metadata": {},
   "source": [
    "Widgets add more interactivity to Notebooks, allowing one to visualize and control changes in data, parameters etc. "
   ]
  },
  {
   "cell_type": "code",
   "execution_count": 1,
   "metadata": {
    "collapsed": true
   },
   "outputs": [],
   "source": [
    "from ipywidgets import interact"
   ]
  },
  {
   "cell_type": "markdown",
   "metadata": {},
   "source": [
    "Let's create a simple interactive plot"
   ]
  },
  {
   "cell_type": "code",
   "execution_count": 4,
   "metadata": {},
   "outputs": [
    {
     "data": {
      "application/vnd.jupyter.widget-view+json": {
       "model_id": "5399231ab6b54025b191e2c74e4303fc",
       "version_major": 2,
       "version_minor": 0
      },
      "text/plain": [
       "A Jupyter Widget"
      ]
     },
     "metadata": {},
     "output_type": "display_data"
    }
   ],
   "source": [
    "from ipywidgets import interact # IPython.html.widgets before IPython 4.0\n",
    "\n",
    "@interact\n",
    "def plot(n=(1,6)):\n",
    "    x = np.linspace(0,2*np.pi,100)\n",
    "    y = np.sin(n*x)\n",
    "    plt.plot(x,y, 'r-')\n",
    "    plt.show()"
   ]
  },
  {
   "cell_type": "markdown",
   "metadata": {},
   "source": [
    "### Keyboard shortcuts\n",
    "\n",
    "Some shortcuts only work in Command or Edit mode.\n",
    "\n",
    "| Shortcut | Effect |\n",
    "| -------- | ------ |\n",
    "| `Enter` | Enter Edit mode |\n",
    "|`Escape` or `Ctrl`-`m` | Enter Command mode |\n",
    "| `Ctrl`-`Enter` | Run the cell |\n",
    "| `Shift`-`Enter`| Run the cell and select the cell below |\n",
    "| `Alt`-`Enter`| Run the cell and insert a new cell below |\n",
    "| `m` and `y` | Toggle between Markdown and Code cells  |\n",
    "| `d-d` | Delete a cell  |\n",
    "| `z` | Undo deleting  |\n",
    "| `a/b` | Insert cells above/below current cell |\n",
    "| `x/c/v` | Cut/copy/paste cells |\n",
    "| `Up/Down` or `k/j` | Select previous/next cells |\n",
    "| `h` | Bring up help menu for keyboard shortcuts |\n",
    "| `Tab` | Code completion or indentation  |\n",
    "| Appended `?` | Show help on commands/methods |\n",
    "| Appended `??` | Show source  |\n",
    "\n"
   ]
  },
  {
   "cell_type": "markdown",
   "metadata": {},
   "source": [
    "<a id='exercise'></a>"
   ]
  },
  {
   "cell_type": "markdown",
   "metadata": {},
   "source": [
    "### <font color=\"red\"> *Exercise* </font>"
   ]
  },
  {
   "cell_type": "markdown",
   "metadata": {},
   "source": [
    "Spend a couple of minutes playing around with Markdown and code cells:\n",
    "1. Create a new cell below this one, and make it a Markdown cell \n",
    "2. Go to Edit mode, and add a heading along with some bullet points and an equation\n",
    "3. Add another cell below, and make it a code cell\n",
    "4. Add some code which returns output (either use `print()` or type the variable name at the end of the cell)\n",
    "5. Try some of the keyboard shortcuts listed above\n",
    "\n",
    "Here are some useful hints:\n",
    "* You can edit the cell by double-clicking on it, or pressing `Enter` when it's selected\n",
    "* You can run the cell by pressing the play-button in the toolbar, or press `Shift-Enter`\n",
    "* You can change the type of the cell from the toolbar, or press `m` for Markdown and `y` for code\n",
    "\n",
    "**Questions**\n",
    "* What is the difference between executing a cell with `Shift-Enter`, `Ctrl-Enter` or `Alt-Enter`?\n"
   ]
  },
  {
   "cell_type": "markdown",
   "metadata": {},
   "source": [
    "<a id='optional-exercise12'></a>"
   ]
  },
  {
   "cell_type": "markdown",
   "metadata": {},
   "source": [
    "### Magics"
   ]
  },
  {
   "cell_type": "markdown",
   "metadata": {},
   "source": [
    "Magics are a simple command language which significantly extend the power of Jupyter "
   ]
  },
  {
   "cell_type": "markdown",
   "metadata": {},
   "source": [
    "Two kinds of magics:\n",
    "\n",
    "  - **Line magics**: commands prepended by one % character and whose arguments only extend to the end of the current line.\n",
    "  - **Cell magics**: use two percent characters as a marker (%%), receive as argument the whole cell (must be used as the first line in a cell)\n",
    "  - Use `%lsmagic` magic to list all available line and cell magics\n",
    "  - Question mark shows help: `%lsmagic?`\n",
    "  - `%quickref` gives a short reference of available magic (and other) functionality \n",
    "  - Additional magics can be created, see next notebook for Slurm magics!"
   ]
  },
  {
   "cell_type": "markdown",
   "metadata": {},
   "source": [
    "### Example magics"
   ]
  },
  {
   "cell_type": "code",
   "execution_count": null,
   "metadata": {
    "collapsed": true
   },
   "outputs": [],
   "source": [
    "%lsmagic"
   ]
  },
  {
   "cell_type": "code",
   "execution_count": null,
   "metadata": {
    "collapsed": true
   },
   "outputs": [],
   "source": [
    "%quickref"
   ]
  },
  {
   "cell_type": "markdown",
   "metadata": {},
   "source": [
    "Listing files and directories, and capturing the output of shell commands"
   ]
  },
  {
   "cell_type": "code",
   "execution_count": null,
   "metadata": {
    "collapsed": true
   },
   "outputs": [],
   "source": [
    "%ls"
   ]
  },
  {
   "cell_type": "code",
   "execution_count": null,
   "metadata": {
    "collapsed": true
   },
   "outputs": [],
   "source": [
    "ls_out = %sx ls\n",
    "ls_out"
   ]
  },
  {
   "cell_type": "markdown",
   "metadata": {},
   "source": [
    "Timing execution, either one line or entire cell"
   ]
  },
  {
   "cell_type": "code",
   "execution_count": null,
   "metadata": {
    "collapsed": true
   },
   "outputs": [],
   "source": [
    "import numpy as np"
   ]
  },
  {
   "cell_type": "code",
   "execution_count": null,
   "metadata": {},
   "outputs": [],
   "source": [
    "%%timeit \n",
    "a = np.random.rand(100, 100)\n",
    "np.linalg.eigvals(a)"
   ]
  },
  {
   "cell_type": "markdown",
   "metadata": {},
   "source": [
    "Writing cell contents to file"
   ]
  },
  {
   "cell_type": "code",
   "execution_count": null,
   "metadata": {},
   "outputs": [],
   "source": [
    "%%writefile foo.py\n",
    "print('Hello world')"
   ]
  },
  {
   "cell_type": "markdown",
   "metadata": {},
   "source": [
    "Executing python code from .py files "
   ]
  },
  {
   "cell_type": "code",
   "execution_count": null,
   "metadata": {},
   "outputs": [],
   "source": [
    "%run foo"
   ]
  },
  {
   "cell_type": "markdown",
   "metadata": {},
   "source": [
    "Profilng code on one line or in entire cell"
   ]
  },
  {
   "cell_type": "code",
   "execution_count": null,
   "metadata": {},
   "outputs": [],
   "source": [
    "%%prun \n",
    "a = np.random.rand(100, 100)\n",
    "np.linalg.eigvals(a)"
   ]
  },
  {
   "cell_type": "markdown",
   "metadata": {},
   "source": [
    "## Use cases\n",
    "- Experimenting with new ideas, testing new libraries/databases \n",
    "- Interactive code, data analysis and visualization development\n",
    "- Sharing and explaining code to colleagues\n",
    "- Reproducible workflows\n",
    "- Interact with HPC system\n",
    "- Supplementary information with published articles\n",
    "- Teaching \n",
    "- Presentations"
   ]
  },
  {
   "cell_type": "markdown",
   "metadata": {},
   "source": [
    "## When not to use notebooks?\n",
    "\n",
    "- Large codebases are difficult to manage in notebooks\n",
    "- More difficult to follow good software development practices\n",
    "    - doesn't play well with version control (see below)\n",
    "    - not as easy to do automated testing\n",
    "    - not as useful as IDE to ensure PEP8-compliance"
   ]
  },
  {
   "cell_type": "code",
   "execution_count": null,
   "metadata": {
    "collapsed": true
   },
   "outputs": [],
   "source": []
  }
 ],
 "metadata": {
  "anaconda-cloud": {},
  "kernelspec": {
   "display_name": "Python 3",
   "language": "python",
   "name": "python3"
  },
  "language_info": {
   "codemirror_mode": {
    "name": "ipython",
    "version": 3
   },
   "file_extension": ".py",
   "mimetype": "text/x-python",
   "name": "python",
   "nbconvert_exporter": "python",
   "pygments_lexer": "ipython3",
   "version": "3.6.3"
  },
  "widgets": {
   "state": {
    "629d3a72e0e241ba91f8932c1f7481b1": {
     "views": [
      {
       "cell_index": 80
      }
     ]
    }
   },
   "version": "1.2.0"
  }
 },
 "nbformat": 4,
 "nbformat_minor": 2
}
