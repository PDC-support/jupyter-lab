{
 "cells": [
  {
   "cell_type": "code",
   "execution_count": 3,
   "metadata": {},
   "outputs": [
    {
     "name": "stdout",
     "output_type": "stream",
     "text": [
      "/cfs/klemming/nobackup/l/lxin/support/jupyter-lab/cities\n"
     ]
    }
   ],
   "source": [
    "cd cities"
   ]
  },
  {
   "cell_type": "code",
   "execution_count": 4,
   "metadata": {},
   "outputs": [
    {
     "name": "stdout",
     "output_type": "stream",
     "text": [
      "Help on module dist_cities:\n",
      "\n",
      "NAME\n",
      "    dist_cities\n",
      "\n",
      "CLASSES\n",
      "    builtins.object\n",
      "        City\n",
      "    \n",
      "    class City(builtins.object)\n",
      "     |  City(name, latitude, longitude)\n",
      "     |  \n",
      "     |  The City class holds information of city, including name, latitude and\n",
      "     |  longitude\n",
      "     |  \n",
      "     |  Methods defined here:\n",
      "     |  \n",
      "     |  __init__(self, name, latitude, longitude)\n",
      "     |      Initialize a city object with name, latitude and longitude\n",
      "     |  \n",
      "     |  __str__(self)\n",
      "     |      String representation of a city\n",
      "     |  \n",
      "     |  ----------------------------------------------------------------------\n",
      "     |  Data descriptors defined here:\n",
      "     |  \n",
      "     |  __dict__\n",
      "     |      dictionary for instance variables (if defined)\n",
      "     |  \n",
      "     |  __weakref__\n",
      "     |      list of weak references to the object (if defined)\n",
      "\n",
      "FUNCTIONS\n",
      "    calc_dist(coord_pair)\n",
      "        Calculate the distance from a coordinate pair (latitude_1, latitude_2,\n",
      "        longitude_1, longitude_2)\n",
      "    \n",
      "    create_coord_pairs(cities)\n",
      "        Create a list of coordinate pairs from a list of cities\n",
      "    \n",
      "    read_cities()\n",
      "        Read city data (name, latitude, longitude) and return a list of\n",
      "        cities\n",
      "\n",
      "FILE\n",
      "    /cfs/klemming/nobackup/l/lxin/support/jupyter-lab/cities/dist_cities.py\n",
      "\n",
      "\n"
     ]
    }
   ],
   "source": [
    "import dist_cities as dc\n",
    "help(dc)"
   ]
  },
  {
   "cell_type": "code",
   "execution_count": 5,
   "metadata": {},
   "outputs": [
    {
     "name": "stdout",
     "output_type": "stream",
     "text": [
      "1101\n"
     ]
    }
   ],
   "source": [
    "cities = dc.read_cities()\n",
    "print(len(cities))"
   ]
  },
  {
   "cell_type": "code",
   "execution_count": 6,
   "metadata": {},
   "outputs": [
    {
     "name": "stdout",
     "output_type": "stream",
     "text": [
      "605550\n"
     ]
    }
   ],
   "source": [
    "coord_pairs = dc.create_coord_pairs(cities)\n",
    "print(len(coord_pairs))"
   ]
  },
  {
   "cell_type": "code",
   "execution_count": 7,
   "metadata": {},
   "outputs": [],
   "source": [
    "import multiprocessing as mp\n",
    "nprocs = 4\n",
    "pool = mp.Pool(nprocs)"
   ]
  },
  {
   "cell_type": "code",
   "execution_count": 10,
   "metadata": {},
   "outputs": [
    {
     "name": "stdout",
     "output_type": "stream",
     "text": [
      "19983.405422311647\n",
      "19983.405422311647\n",
      "19983.405422311647\n",
      "19983.405422311647\n",
      "19983.405422311647\n",
      "19983.405422311647\n",
      "19983.405422311647\n",
      "19983.405422311647\n",
      "510 ms ± 37.2 ms per loop (mean ± std. dev. of 7 runs, 1 loop each)\n"
     ]
    }
   ],
   "source": [
    "%%timeit\n",
    "output = pool.map(dc.calc_dist, coord_pairs)\n",
    "print(max(output))"
   ]
  },
  {
   "cell_type": "code",
   "execution_count": 11,
   "metadata": {
    "scrolled": true
   },
   "outputs": [
    {
     "name": "stdout",
     "output_type": "stream",
     "text": [
      "19983.405422311647\n",
      "19983.405422311647\n",
      "19983.405422311647\n",
      "19983.405422311647\n",
      "19983.405422311647\n",
      "19983.405422311647\n",
      "19983.405422311647\n",
      "19983.405422311647\n",
      "850 ms ± 492 µs per loop (mean ± std. dev. of 7 runs, 1 loop each)\n"
     ]
    }
   ],
   "source": [
    "%%timeit\n",
    "output = [dc.calc_dist(p) for p in coord_pairs]\n",
    "print(max(output))"
   ]
  },
  {
   "cell_type": "code",
   "execution_count": null,
   "metadata": {},
   "outputs": [],
   "source": []
  }
 ],
 "metadata": {
  "kernelspec": {
   "display_name": "Python 3",
   "language": "python",
   "name": "python3"
  },
  "language_info": {
   "codemirror_mode": {
    "name": "ipython",
    "version": 3
   },
   "file_extension": ".py",
   "mimetype": "text/x-python",
   "name": "python",
   "nbconvert_exporter": "python",
   "pygments_lexer": "ipython3",
   "version": "3.7.0"
  }
 },
 "nbformat": 4,
 "nbformat_minor": 2
}
