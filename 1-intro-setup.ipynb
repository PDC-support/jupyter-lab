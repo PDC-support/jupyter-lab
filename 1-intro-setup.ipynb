{
 "cells": [
  {
   "cell_type": "markdown",
   "metadata": {},
   "source": [
    "# Introduction to Jupyter Notebooks"
   ]
  },
  {
   "cell_type": "markdown",
   "metadata": {},
   "source": [
    "## Setting up Jupyter on PDC"
   ]
  },
  {
   "cell_type": "markdown",
   "metadata": {},
   "source": [
    "To connect from your browser to a Jupyter Notebook server running on a Tegner compute node you need to follow a few steps.\n",
    "First make sure that the connection between your browser and the Jupyter server running at PDC is secure, by:\n",
    "- Generating a Jupyter configuration file\n",
    "- Setting a strong Jupyter password\n",
    "- Setting up a self-signed certificate to enable https"
   ]
  },
  {
   "cell_type": "markdown",
   "metadata": {},
   "source": [
    "### Jupyter configuration\n",
    "\n",
    "+ First log in to Tegner:\n",
    "```\n",
    "$ ssh <username>@tegner.pdc.kth.se\n",
    "```\n",
    "+ Load module ``anaconda/py36/5.0.1`` and activate the ``prace`` environment.\n",
    "```\n",
    "$ module load anaconda/py36/5.0.1\n",
    "$ source activate prace\n",
    "```\n",
    "\n",
    "+ Generate the configuration file `$HOME/.jupyter`:\n",
    "```\n",
    "$ jupyter notebook --generate-config\n",
    "```"
   ]
  },
  {
   "cell_type": "markdown",
   "metadata": {},
   "source": [
    "### Setting a Jupyter password\n",
    "+ Create your Jupyter password \n",
    "```\n",
    "$ jupyter notebook password\n",
    "```\n",
    "+ The entered password will be saved in hashed form in the file `$HOME/.jupyter/jupyter_notebook_config.json`."
   ]
  },
  {
   "cell_type": "markdown",
   "metadata": {},
   "source": [
    "### Generate a SSL certificate\n",
    "\n",
    "+ Generate a self-signed certificate with `openssl` in your `Private` directory: \n",
    "```\n",
    "cd $HOME/Private\n",
    "$ openssl req -x509 -nodes -days 30 -newkey rsa:2048 -keyout mykey.key -out mycert.pem\n",
    "```\n",
    "+ Add information on the certificate in your Jupyter config file:\n",
    "```\n",
    "$ c.NotebookApp.certfile = u'/afs/pdc.kth.se/home/<initial>/<username>/Private/mycert.pem'\n",
    "$ c.NotebookApp.keyfile = u'/afs/pdc.kth.se/home/<initial>/<username>/Private/mykey.key'\n",
    "```"
   ]
  },
  {
   "cell_type": "markdown",
   "metadata": {},
   "source": [
    "### Interactive use\n",
    "\n",
    "+ Start Jupyter notebook with port, host IP, and secure protocol\n",
    "```\n",
    "ipnport=$(shuf -i8000-9999 -n1)\n",
    "ipnip=$(hostname -i)\n",
    "jupyter-notebook --no-browser --port=$ipnport --ip=$ipnip --certfile=mycert.pem --keyfile mykey.key\n",
    "```\n",
    "\n",
    "+ Jupyter notebook will print output like\n",
    "```\n",
    "The Jupyter Notebook is running at:\n",
    "https://<IP.address>:<port>/\n",
    "```\n",
    "\n",
    "+ Copy the **https** link to your browser. Your browser will likely complain that your self-signed certificate is not secure or not recognized. Tell it to proceed anyways.\n",
    "\n",
    "\n",
    "+ The notebook is ready for use after entering your password!"
   ]
  },
  {
   "cell_type": "markdown",
   "metadata": {},
   "source": [
    "### Batch job\n",
    "\n",
    "- Copy/paste this batch script to a file `submit_jupyter.bash`:\n",
    "\n",
    "```\n",
    "#!/bin/bash\n",
    "#SBATCH -A edu18.prace\n",
    "#SBATCH --nodes 1\n",
    "#SBATCH --time 1:00:00\n",
    "#SBATCH --job-name tunnel\n",
    "#SBATCH --output jupyter-log-%J.txt\n",
    "\n",
    "module load anaconda/py36/5.0.1\n",
    "source activate prace\n",
    "\n",
    "XDG_RUNTIME_DIR=\"\"\n",
    "ipnport=$(shuf -i8000-9999 -n1)\n",
    "ipnip=$(hostname -i)\n",
    "\n",
    "echo -e \"\n",
    "    Copy/Paste this in your local terminal to ssh tunnel with remote\n",
    "    -----------------------------------------------------------------\n",
    "    ssh -N -L $ipnport:$ipnip:$ipnport $USER@tegner.pdc.kth.se\n",
    "    -----------------------------------------------------------------\n",
    "\n",
    "    Then open a browser on your local machine to the following address\n",
    "    ------------------------------------------------------------------\n",
    "    https://localhost:$ipnport  \n",
    "    ------------------------------------------------------------------\n",
    "    \"\n",
    "\n",
    "jupyter-notebook --no-browser --port=$ipnport --ip=$ipnip\n",
    "```\n",
    "\n",
    "- Submit the batch script by \n",
    "```\n",
    "$ sbatch run_jupyter.bash\n",
    "```\n",
    "- Check the instructions in `jupyter-log-%J.txt`:\n",
    "    - Create the ssh tunnel from a new terminal from your computer: `ssh -N -L <port>:<ip>:<port> <username>@tegner.pdc.kth.se`.\n",
    "    - Copy/paste the URL `https://localhost:<port>` provided in the output file into your browser. "
   ]
  },
  {
   "cell_type": "markdown",
   "metadata": {},
   "source": [
    "## Introduction"
   ]
  },
  {
   "cell_type": "markdown",
   "metadata": {},
   "source": [
    "+ What is Jupyter notebook?"
   ]
  },
  {
   "cell_type": "markdown",
   "metadata": {},
   "source": [
    "+ Why do we want to use Jupyter notebook?"
   ]
  },
  {
   "cell_type": "markdown",
   "metadata": {},
   "source": [
    "+ Features?"
   ]
  }
 ],
 "metadata": {
  "kernelspec": {
   "display_name": "Python 3",
   "language": "python",
   "name": "python3"
  },
  "language_info": {
   "codemirror_mode": {
    "name": "ipython",
    "version": 3
   },
   "file_extension": ".py",
   "mimetype": "text/x-python",
   "name": "python",
   "nbconvert_exporter": "python",
   "pygments_lexer": "ipython3",
   "version": "3.6.5"
  }
 },
 "nbformat": 4,
 "nbformat_minor": 2
}
