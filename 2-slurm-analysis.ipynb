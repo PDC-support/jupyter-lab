{
 "cells": [
  {
   "cell_type": "markdown",
   "metadata": {},
   "source": [
    "# Running SLURM jobs from a notebook"
   ]
  },
  {
   "cell_type": "markdown",
   "metadata": {},
   "source": [
    "One possible use case of Jupyter Notebooks in an HPC environment is to manage SLURM jobs and to monitor/visualize results from running jobs.  \n",
    "\n",
    "In this lesson, we will have a look at **Slurm magics** to manage jobs and **interactive analysis** of running jobs."
   ]
  },
  {
   "cell_type": "markdown",
   "metadata": {},
   "source": [
    "## What are SLURM magics?"
   ]
  },
  {
   "cell_type": "markdown",
   "metadata": {},
   "source": [
    "- Developed at [NERSC](http://www.nersc.gov/) (sources [here](https://github.com/NERSC/slurm-magic))\n",
    "- Implements Jupyter magic commands for interacting with the SLURM workload manager\n",
    "- Commands are spawned via `subprocess` and output captured in the notebook\n",
    "- Arguments accepted by a SLURM command are also accepted by the corresponding magic command\n",
    "\n",
    "> *\"I’ll never have to leave a notebook again, that’s like the ultimate dream\"*  \n",
    "> (Anonymous SLURM-magic user)"
   ]
  },
  {
   "cell_type": "markdown",
   "metadata": {},
   "source": [
    "## Using SLURM magics"
   ]
  },
  {
   "cell_type": "markdown",
   "metadata": {},
   "source": [
    "The Python package ``slurm-magic`` is available in the ``prace`` environment:\n",
    "\n",
    "```bash\n",
    "$ module load anaconda/py36/5.0.1\n",
    "$ source activate prace\n",
    "$ jupyter-notebook --no-browser --port=<port> --ip=<ip>\n",
    "```"
   ]
  },
  {
   "cell_type": "markdown",
   "metadata": {},
   "source": [
    "In the notebook, we then need to load the IPython extension: "
   ]
  },
  {
   "cell_type": "code",
   "execution_count": null,
   "metadata": {},
   "outputs": [],
   "source": [
    "%load_ext slurm_magic"
   ]
  },
  {
   "cell_type": "markdown",
   "metadata": {},
   "source": [
    "We can check the newly added magics provided by ``slurm-magic``:"
   ]
  },
  {
   "cell_type": "code",
   "execution_count": null,
   "metadata": {},
   "outputs": [],
   "source": [
    "%lsmagic"
   ]
  },
  {
   "cell_type": "markdown",
   "metadata": {},
   "source": [
    "and try them out"
   ]
  },
  {
   "cell_type": "code",
   "execution_count": null,
   "metadata": {},
   "outputs": [],
   "source": [
    "%squeue"
   ]
  },
  {
   "cell_type": "code",
   "execution_count": null,
   "metadata": {},
   "outputs": [],
   "source": [
    "%sinfo"
   ]
  },
  {
   "cell_type": "markdown",
   "metadata": {},
   "source": [
    "## Submitting a job and analyzing results on the fly"
   ]
  },
  {
   "cell_type": "markdown",
   "metadata": {},
   "source": [
    "### GROMACS as an example\n",
    "\n",
    "[GROMACS](http://www.gromacs.org/) is a molecular dynamics simulation package designed for simulations of biological macromolecules (proteins, lipids, nucleic acids, etc.).\n",
    "\n",
    "In this exercise we use [lysozyme in water](http://www.mdtutorials.com/gmx/lysozyme/index.html) as a model system to demonstrate how to use Jupyter notebook to submit jobs and analyze results.\n",
    "\n",
    "First, go to the ``gromacs_job`` folder"
   ]
  },
  {
   "cell_type": "code",
   "execution_count": null,
   "metadata": {},
   "outputs": [],
   "source": [
    "%cd gromacs_job"
   ]
  },
  {
   "cell_type": "markdown",
   "metadata": {},
   "source": [
    "and check that the input files (.mdp, .top and .gro) are in the folder"
   ]
  },
  {
   "cell_type": "code",
   "execution_count": null,
   "metadata": {},
   "outputs": [],
   "source": [
    "%ls"
   ]
  },
  {
   "cell_type": "markdown",
   "metadata": {},
   "source": [
    "Then, use the ``%%sbatch`` cell magic to submit a GROMACS job"
   ]
  },
  {
   "cell_type": "code",
   "execution_count": null,
   "metadata": {},
   "outputs": [],
   "source": [
    "%%sbatch\n",
    "#!/bin/bash -l\n",
    "#SBATCH -A edu18.prace\n",
    "#SBATCH -N 1\n",
    "#SBATCH -t 1:00:00\n",
    "#SBATCH -J gromacs\n",
    "module load gromacs/2018.3\n",
    "gmx_seq grompp -f npt.mdp -c start.gro -p topol.top\n",
    "gmx_seq mdrun -s topol.tpr -deffnm npt"
   ]
  },
  {
   "cell_type": "markdown",
   "metadata": {},
   "source": [
    "Monitor your job with the ``%squeue`` line magic"
   ]
  },
  {
   "cell_type": "code",
   "execution_count": null,
   "metadata": {},
   "outputs": [],
   "source": [
    "%squeue -u <user>"
   ]
  },
  {
   "cell_type": "markdown",
   "metadata": {},
   "source": [
    "As the simulation goes on, the output files will be constantly updated. You can start to analyze the output files and monitor the progress of the simulation.\n",
    "\n",
    "We have prepared a Python module ``gmx_util`` that provides some easy-to-use functions for analysis. To use the module, type"
   ]
  },
  {
   "cell_type": "code",
   "execution_count": null,
   "metadata": {},
   "outputs": [],
   "source": [
    "import gmx_util as gu"
   ]
  },
  {
   "cell_type": "markdown",
   "metadata": {},
   "source": [
    "and read the documentation of the module via"
   ]
  },
  {
   "cell_type": "code",
   "execution_count": null,
   "metadata": {},
   "outputs": [],
   "source": [
    "help(gu)"
   ]
  },
  {
   "cell_type": "markdown",
   "metadata": {},
   "source": [
    "Now we are ready to do some analysis. Note that the GROMACS module is not loaded yet, and we need to do the following to add GROMACS executables to the $PATH environment variable"
   ]
  },
  {
   "cell_type": "code",
   "execution_count": null,
   "metadata": {},
   "outputs": [],
   "source": [
    "gu.load_gmx()"
   ]
  },
  {
   "cell_type": "markdown",
   "metadata": {},
   "source": [
    "Let's examine the evolution of density with respect to simulation time"
   ]
  },
  {
   "cell_type": "code",
   "execution_count": null,
   "metadata": {},
   "outputs": [],
   "source": [
    "time,dens = gu.get_prop(\"Density\",\"npt\")"
   ]
  },
  {
   "cell_type": "markdown",
   "metadata": {},
   "source": [
    "and plot density against time"
   ]
  },
  {
   "cell_type": "code",
   "execution_count": null,
   "metadata": {},
   "outputs": [],
   "source": [
    "import matplotlib.pyplot as plt\n",
    "plt.plot(time,dens)"
   ]
  },
  {
   "cell_type": "markdown",
   "metadata": {},
   "source": [
    "Note that the default unit is kg/m<sup>3</sup> for density and ps for simulationt time. You may improve the plot by adding ``xlabel``, ``ylabel``, etc.\n",
    "\n",
    "We can also examine the evolution of pressure with respect to time"
   ]
  },
  {
   "cell_type": "code",
   "execution_count": null,
   "metadata": {},
   "outputs": [],
   "source": [
    "time,pres = gu.get_prop(\"Pressure\",\"npt\")\n",
    "plt.plot(time,pres)"
   ]
  },
  {
   "cell_type": "markdown",
   "metadata": {},
   "source": [
    "Also look at the correlation between density and pressure"
   ]
  },
  {
   "cell_type": "code",
   "execution_count": null,
   "metadata": {},
   "outputs": [],
   "source": [
    "plt.plot(dens,pres[:len(dens)],'b+')"
   ]
  },
  {
   "cell_type": "markdown",
   "metadata": {},
   "source": [
    "Since we are simulating lysozyme in water, we can monitor the root-mean-square deviation (RMSD) of protein"
   ]
  },
  {
   "cell_type": "code",
   "execution_count": null,
   "metadata": {},
   "outputs": [],
   "source": [
    "time,rmsd = gu.get_rmsd(\"Backbone\",\"npt\")\n",
    "plt.plot(time,rmsd)"
   ]
  },
  {
   "cell_type": "markdown",
   "metadata": {},
   "source": [
    "In many cases it is of interest to analyze the coordinates of protein and surrounding solvent molecules. To do that, we first convert the binary trajectory file into the protein data bank (PDB) format"
   ]
  },
  {
   "cell_type": "code",
   "execution_count": null,
   "metadata": {},
   "outputs": [],
   "source": [
    "gu.get_pdb(\"System\",\"npt\")"
   ]
  },
  {
   "cell_type": "markdown",
   "metadata": {},
   "source": [
    "Then we extract a frame at e.g. 100 ps, and print some information about the atoms and residues"
   ]
  },
  {
   "cell_type": "code",
   "execution_count": null,
   "metadata": {},
   "outputs": [],
   "source": [
    "atoms = gu.read_pdb(100, \"npt\")\n",
    "print(\"Number of atoms:\", len(atoms))\n",
    "residues = list(set([a.resname for a in atoms]))\n",
    "print(\"Number residue types:\", len(residues))\n",
    "print(\"Residue types:\", residues)"
   ]
  },
  {
   "cell_type": "markdown",
   "metadata": {},
   "source": [
    "Below is an example code for computing the shortest distance between protein and the first 30 water molecules"
   ]
  },
  {
   "cell_type": "code",
   "execution_count": null,
   "metadata": {},
   "outputs": [],
   "source": [
    "import math\n",
    "\n",
    "pro_atoms = []\n",
    "wat_atoms = []\n",
    "for a in atoms:\n",
    "    if a.resname == \"SOL\":\n",
    "        wat_atoms.append(a)\n",
    "    elif a.resname == \" CL\":\n",
    "        pass\n",
    "    else:\n",
    "        pro_atoms.append(a)\n",
    "\n",
    "min_r2 = 1e+99\n",
    "for a in pro_atoms:\n",
    "    for b in wat_atoms[:90]:\n",
    "        dx = a.x - b.x\n",
    "        dy = a.y - b.y\n",
    "        dz = a.z - b.z\n",
    "        r2 = dx**2 + dy**2 + dz**2\n",
    "        if min_r2 > r2:\n",
    "            min_r2 = r2\n",
    "\n",
    "print(math.sqrt(min_r2))"
   ]
  },
  {
   "cell_type": "markdown",
   "metadata": {},
   "source": [
    "You can do other things with the coordinates, for instance computing the centroid of the protein"
   ]
  },
  {
   "cell_type": "code",
   "execution_count": null,
   "metadata": {},
   "outputs": [],
   "source": [
    "# write your code to compute the centroid of the protein\n"
   ]
  },
  {
   "cell_type": "markdown",
   "metadata": {},
   "source": [
    "### <font color=\"red\"> Exercise 2.1"
   ]
  },
  {
   "cell_type": "markdown",
   "metadata": {},
   "source": [
    "Idea of this exercise:\n",
    "- the gmx analysis snippets above should perhaps be rewritten as functions\n",
    "- learners use the writefile magic to save the analysis functions to a file \n",
    "- they then write a batch script into a cell, and use the %%sbatch magic to submit it\n",
    "- they should then monitor it, and read the results from an output file"
   ]
  },
  {
   "cell_type": "code",
   "execution_count": null,
   "metadata": {},
   "outputs": [],
   "source": []
  }
 ],
 "metadata": {
  "kernelspec": {
   "display_name": "Python 3",
   "language": "python",
   "name": "python3"
  },
  "language_info": {
   "codemirror_mode": {
    "name": "ipython",
    "version": 3
   },
   "file_extension": ".py",
   "mimetype": "text/x-python",
   "name": "python",
   "nbconvert_exporter": "python",
   "pygments_lexer": "ipython3",
   "version": "3.7.0"
  }
 },
 "nbformat": 4,
 "nbformat_minor": 2
}
