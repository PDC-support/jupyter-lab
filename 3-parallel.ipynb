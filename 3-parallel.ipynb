{
 "cells": [
  {
   "cell_type": "markdown",
   "metadata": {},
   "source": [
    "# Parallel Python"
   ]
  },
  {
   "cell_type": "markdown",
   "metadata": {},
   "source": [
    "In this section we briefly introduce three approaches for parallel computing in Python: `ipyparallel`, `multiprocessing`, and `mpi4py`."
   ]
  },
  {
   "cell_type": "markdown",
   "metadata": {},
   "source": [
    "## Contents\n",
    "\n",
    "- [Why parallelize Python code?](#Why-would-you-want-to-do-parallel-programming-in-Python?)\n",
    "    - [Before parallelizing Python code](#Before-spending-a-lot-of-time-parallelizing-your-Python-code)\n",
    "- [Global interpreter lock](#The-global-interpreter-lock-(GIL))\n",
    "- [IPython for parallel computing](#IPython-for-parallel-computing)\n",
    "    - [Configuration](#Configuration)\n",
    "    - [Using `ipyparallel`](#using_ipyparallel)\n",
    "    - [Example problem](#Example-problem:-inter-city-distances)\n",
    "    - [Exercise 3.1](#exercise31)\n",
    "    - [Exercise 3.2](#exercise32)\n",
    "    - [Exercise 3.3](#exercise33)\n",
    "- [Multiprocessing](#Multiprocessing)\n",
    "    - [Exercise 3.4](#exercise34)\n",
    "    - [Exercise 3.5](#exercise35)\n",
    "- [MPI4Py](#MPI4Py)\n",
    "    - [MPI4Py basics](#MPI4Py-basics)\n",
    "    - [Parallelization via MPI4Py](#Parallelization-via-MPI4Py)\n",
    "    - [Exercise 3.6](#exercise36)"
   ]
  },
  {
   "cell_type": "markdown",
   "metadata": {},
   "source": [
    "> Many excellent resources on parallel Python exist on the web, and some have been used as inspiration for the material presented here. In particular, the following resources are recommended:\n",
    "> - https://github.com/dvalters/RSE18-Python-Parallel-workshop\n",
    "> - https://swcarpentry.github.io/python-intermediate-mosquitoes/04-multiprocessing.html\n",
    "> - https://nbviewer.jupyter.org/github/CQuIC/summer17-computing-workshop/blob/master/Parallelization/mpi4py/Introduction_to_MPI4py.ipynb"
   ]
  },
  {
   "cell_type": "markdown",
   "metadata": {},
   "source": [
    "## Why would you want to do parallel programming in Python? \n",
    "\n",
    "Traditionally, Python is considered to not support parallel programming very well, and \"proper\" parallel programming should be left to \"heavy-duty\" languages such as Fortran or C/C++ where libraries or standards such as OpenMP and MPI can be utilised. \n",
    "\n",
    "For large scale, massively-parallel applications, this is probably still the case, but a rich variety of libraries and packages have been developed outside the core Python language, so parallel programming is now much better supported."
   ]
  },
  {
   "cell_type": "markdown",
   "metadata": {},
   "source": [
    "### Before spending a lot of time parallelizing your Python code\n",
    "- If your Python code is running too slow, there are many ways to speed it up:\n",
    "    - Begin by identifying the performance bottlenecks in the code - **profile before optimizing!**\n",
    "    - Use fast numerical packages like [Numpy](http://www.numpy.org/).\n",
    "    - Use a just-in-time (JIT) compiler like [Numba](https://numba.pydata.org/).\n",
    "    - Use C-extensions from [Cython](http://cython.org/).\n",
    "    - Rewrite the performance-critical functions in C/C++/Fortran, and import them into Python.\n",
    "    - Any of these methods could speed up Python code by orders of magnitude!\n",
    "- So why bother with parallelizing Python?\n",
    "    - Perhaps you're already using Numpy, Numba, Cython and/or C/C++/Fortran for the most compute-intensive parts of your code.\n",
    "    - Perhaps you have a problem that is particularly suitable for parallelization, e.g. a large dataset that can be processed independently in chunks."
   ]
  },
  {
   "cell_type": "markdown",
   "metadata": {},
   "source": [
    "## The global interpreter lock (GIL)"
   ]
  },
  {
   "cell_type": "markdown",
   "metadata": {},
   "source": [
    "- The most common implementation of Python (interpreter/executable that runs your Python code) is called CPython.\n",
    "- CPython doesn't support using threads well, because it's been written to assume that individual Python programs are serial.\n",
    "- CPython implements something called the Global Interpreter Lock (GIL) that protects access to Python objects, preventing multiple threads executing Python bytecode through the Python interpreter at once.\n",
    "- Subsequent developments in Python have come to rely on the GIL being present, so removing it in future versions of Python is unlikely.\n",
    "- Parallel approaches to Python are normally based around running multiple instances of the Python interpreter, each with its own copy of the the code being run and each with its own separate GIL."
   ]
  },
  {
   "cell_type": "markdown",
   "metadata": {},
   "source": [
    "## IPython for parallel computing"
   ]
  },
  {
   "cell_type": "markdown",
   "metadata": {},
   "source": [
    "IPython abstracts out parallelism in a general way, supporting many different styles of parallelism: Single program multiple data (SPMD) and multiple program multiple data (MPMD) parallelism, message passing using MPI, task farming, data parallel, a combinations of approaches or custom user-defined approaches.\n",
    "\n",
    "Most importantly, IPython and the `ipyparallel` package enables all types of parallel applications to be developed, executed, debugged, and monitored *interactively*.\n",
    "\n",
    "The following are some example use cases:\n",
    "\n",
    "- Quickly parallelize algorithms that are embarrassingly parallel using a number of simple approaches. Many simple things can be parallelized interactively in one or two lines of code.\n",
    "- Steer traditional MPI applications on a supercomputer from an IPython session on your laptop.\n",
    "- Analyze and visualize large datasets (that could be remote and/or distributed) interactively using IPython and tools like matplotlib.\n",
    "- Develop, test and debug new parallel algorithms (that may use MPI) interactively.\n",
    "- Tie together multiple MPI jobs running on different systems into one giant distributed and parallel system.\n",
    "- Run a set of tasks on a set of CPUs using dynamic load balancing.\n",
    "\n",
    "> Adapted from the [official documentation](https://ipyparallel.readthedocs.io/en/)"
   ]
  },
  {
   "cell_type": "markdown",
   "metadata": {},
   "source": [
    "### Configuration"
   ]
  },
  {
   "cell_type": "markdown",
   "metadata": {},
   "source": [
    "Already done with jupyter notebook setup, via command `ipython profile create`"
   ]
  },
  {
   "cell_type": "markdown",
   "metadata": {},
   "source": [
    "<a id='using_ipyparallel'></a>"
   ]
  },
  {
   "cell_type": "markdown",
   "metadata": {},
   "source": [
    "### Using `ipyparallel`"
   ]
  },
  {
   "cell_type": "markdown",
   "metadata": {},
   "source": [
    "Starting an IPython cluster for parallel computing can be done from inside Jupyter: \n",
    "- Go to the Jupyter dashboard \n",
    "- Click the \"IPython clusters\" tab \n",
    "- Choose number of engines (e.g. 4), and click \"Start\". "
   ]
  },
  {
   "cell_type": "markdown",
   "metadata": {},
   "source": [
    "Interacting with the engines is done via the `ipyparallel.Client()` method:  "
   ]
  },
  {
   "cell_type": "code",
   "execution_count": 2,
   "metadata": {},
   "outputs": [
    {
     "name": "stdout",
     "output_type": "stream",
     "text": [
      "Number of ipyparallel engines: 4\n"
     ]
    }
   ],
   "source": [
    "import ipyparallel as ipp\n",
    "client = ipp.Client()\n",
    "print(\"Number of ipyparallel engines:\", len(client.ids))"
   ]
  },
  {
   "cell_type": "markdown",
   "metadata": {},
   "source": [
    "#### Direct view\n",
    "\n",
    "The direct view represents one way of working with IPython engines where the capabilities of each engine are directly and explicitly exposed to the user.\n",
    "\n",
    "We construct a `DirectView` object via list-access to the client:"
   ]
  },
  {
   "cell_type": "code",
   "execution_count": 3,
   "metadata": {},
   "outputs": [
    {
     "name": "stdout",
     "output_type": "stream",
     "text": [
      "<DirectView [0, 1, 2, 3]>\n"
     ]
    }
   ],
   "source": [
    "dview = client[:]\n",
    "print(dview)"
   ]
  },
  {
   "cell_type": "markdown",
   "metadata": {},
   "source": [
    "Suppose we want to calculate the square of 10 integers. We can first define a function and then calculate the squares serially"
   ]
  },
  {
   "cell_type": "code",
   "execution_count": 4,
   "metadata": {},
   "outputs": [],
   "source": [
    "def square(x):\n",
    "    return x*x"
   ]
  },
  {
   "cell_type": "code",
   "execution_count": 5,
   "metadata": {},
   "outputs": [
    {
     "name": "stdout",
     "output_type": "stream",
     "text": [
      "[1, 4, 9, 16, 25, 36, 49, 64, 81, 100]\n"
     ]
    }
   ],
   "source": [
    "output = [square(x) for x in range(1,11)]\n",
    "print(output)"
   ]
  },
  {
   "cell_type": "markdown",
   "metadata": {},
   "source": [
    "With `ipyparallel` it is handy to do this via `map_sync`"
   ]
  },
  {
   "cell_type": "code",
   "execution_count": 6,
   "metadata": {},
   "outputs": [
    {
     "name": "stdout",
     "output_type": "stream",
     "text": [
      "[1, 4, 9, 16, 25, 36, 49, 64, 81, 100]\n"
     ]
    }
   ],
   "source": [
    "output = dview.map_sync(square, range(1,11))\n",
    "print(output)"
   ]
  },
  {
   "cell_type": "markdown",
   "metadata": {},
   "source": [
    "The syntax for `map_sync` is straightforward - it accepts the function and a list of input arguments."
   ]
  },
  {
   "cell_type": "markdown",
   "metadata": {},
   "source": [
    "#### Load balanced view\n",
    "\n",
    "The load balanced view is appropriate when you have many jobs that take differnet amounts of time to complete."
   ]
  },
  {
   "cell_type": "code",
   "execution_count": 7,
   "metadata": {},
   "outputs": [
    {
     "name": "stdout",
     "output_type": "stream",
     "text": [
      "<LoadBalancedView None>\n"
     ]
    }
   ],
   "source": [
    "lview = client.load_balanced_view()\n",
    "print(lview)"
   ]
  },
  {
   "cell_type": "code",
   "execution_count": 8,
   "metadata": {},
   "outputs": [
    {
     "data": {
      "text/plain": [
       "[50021.40689197971,\n",
       " 50008.375681112746,\n",
       " 50101.1951231825,\n",
       " 50016.5029323747,\n",
       " 49942.03094366726,\n",
       " 49999.98532604315,\n",
       " 50004.585613091534,\n",
       " 49930.22484286134,\n",
       " 50146.29493334768,\n",
       " 49900.06734529308]"
      ]
     },
     "execution_count": 8,
     "metadata": {},
     "output_type": "execute_result"
    }
   ],
   "source": [
    "import numpy as np\n",
    "lview.map_sync(lambda x: sum(x), np.random.random((10, 100000)))"
   ]
  },
  {
   "cell_type": "markdown",
   "metadata": {},
   "source": [
    "### Parallel magic commands\n",
    "\n",
    "The simplest way to use `ipyparallel` is via the `%px` magic command, which executes code in parallel."
   ]
  },
  {
   "cell_type": "code",
   "execution_count": 10,
   "metadata": {
    "collapsed": true
   },
   "outputs": [
    {
     "name": "stdout",
     "output_type": "stream",
     "text": [
      "[stdout:0] 414435\n",
      "[stdout:1] 414448\n",
      "[stdout:2] 414451\n",
      "[stdout:3] 414455\n"
     ]
    }
   ],
   "source": [
    "%px import os\n",
    "%px a = os.getpid()\n",
    "%px print(a)"
   ]
  },
  {
   "cell_type": "markdown",
   "metadata": {},
   "source": [
    "Let's use the %px magic together with `scatter` and `gather` functions"
   ]
  },
  {
   "cell_type": "code",
   "execution_count": 23,
   "metadata": {
    "collapsed": true
   },
   "outputs": [
    {
     "name": "stdout",
     "output_type": "stream",
     "text": [
      "[stdout:0] [0, 1, 4, 9, 16, 25]\n",
      "[stdout:1] [36, 49, 64, 81, 100, 121]\n",
      "[stdout:2] [144, 169, 196, 225, 256, 289]\n",
      "[stdout:3] [324, 361, 400, 441, 484, 529]\n"
     ]
    }
   ],
   "source": [
    "dview.scatter('xs', range(24))\n",
    "%px y = [x**2 for x in xs]\n",
    "%px print(y)"
   ]
  },
  {
   "cell_type": "code",
   "execution_count": 24,
   "metadata": {
    "collapsed": true
   },
   "outputs": [
    {
     "data": {
      "text/plain": [
       "array([  0,   1,   4,   9,  16,  25,  36,  49,  64,  81, 100, 121, 144,\n",
       "       169, 196, 225, 256, 289, 324, 361, 400, 441, 484, 529])"
      ]
     },
     "execution_count": 24,
     "metadata": {},
     "output_type": "execute_result"
    }
   ],
   "source": [
    "np.array(dview.gather('y').get())"
   ]
  },
  {
   "cell_type": "markdown",
   "metadata": {},
   "source": [
    "### Example problem: Computing the Mandelbrot set\n",
    "\n",
    "We will now look at a more compute intensive problem and measure the speedup from using the `@parallel` decorator."
   ]
  },
  {
   "cell_type": "code",
   "execution_count": 25,
   "metadata": {},
   "outputs": [],
   "source": [
    "# Serial version\n",
    "def mandel1(x, y, max_iters=80):\n",
    "    c = complex(x, y)\n",
    "    z = 0.0j\n",
    "    for i in range(max_iters):\n",
    "        z = z*z + c\n",
    "        if z.real*z.real + z.imag*z.imag >= 4:\n",
    "            return i\n",
    "    return max_iters"
   ]
  },
  {
   "cell_type": "code",
   "execution_count": 26,
   "metadata": {},
   "outputs": [],
   "source": [
    "# Parallel version using the @parallel decorator\n",
    "@dview.parallel(block = True)\n",
    "def mandel2(x, y, max_iters=80):\n",
    "    c = complex(x, y)\n",
    "    z = 0.0j\n",
    "    for i in range(max_iters):\n",
    "        z = z*z + c\n",
    "        if z.real*z.real + z.imag*z.imag >= 4:\n",
    "            return i\n",
    "    return max_iters"
   ]
  },
  {
   "cell_type": "markdown",
   "metadata": {},
   "source": [
    "Initialize arrays and meshgrid"
   ]
  },
  {
   "cell_type": "code",
   "execution_count": 27,
   "metadata": {},
   "outputs": [],
   "source": [
    "x = np.arange(-2, 1, 0.01)\n",
    "y = np.arange(-1, 1, 0.01)\n",
    "X, Y = np.meshgrid(x, y)"
   ]
  },
  {
   "cell_type": "code",
   "execution_count": 31,
   "metadata": {},
   "outputs": [],
   "source": [
    "#%%timeit\n",
    "im1 = np.reshape(list(map(mandel1, X.ravel(), Y.ravel())), \n",
    "                 (len(y), len(x)))"
   ]
  },
  {
   "cell_type": "code",
   "execution_count": 33,
   "metadata": {},
   "outputs": [],
   "source": [
    "#%%timeit\n",
    "im2 = np.reshape(mandel2.map(X.ravel(), Y.ravel()),  (len(y), len(x)))"
   ]
  },
  {
   "cell_type": "markdown",
   "metadata": {},
   "source": [
    "Finally plot the result"
   ]
  },
  {
   "cell_type": "code",
   "execution_count": 34,
   "metadata": {},
   "outputs": [
    {
     "data": {
      "image/png": "[encoded data removed]",
      "text/plain": [
       "<Figure size 864x288 with 2 Axes>"
      ]
     },
     "metadata": {
      "needs_background": "light"
     },
     "output_type": "display_data"
    }
   ],
   "source": [
    "import matplotlib.pyplot as plt\n",
    "fig, axes = plt.subplots(1, 2, figsize=(12, 4))\n",
    "axes[0].grid(False)\n",
    "axes[0].imshow(im1, cmap='jet')\n",
    "axes[1].grid(False)\n",
    "axes[1].imshow(im2, cmap='jet')\n",
    "pass"
   ]
  },
  {
   "cell_type": "markdown",
   "metadata": {},
   "source": [
    "<a id='exercise31'></a>"
   ]
  },
  {
   "cell_type": "markdown",
   "metadata": {},
   "source": [
    "## Multiprocessing"
   ]
  },
  {
   "cell_type": "markdown",
   "metadata": {},
   "source": [
    "Another way to run parallel calculation in Python is the `multiprocessing` module, \n",
    "which is a built-in module within the core Python modules and does not need any further installation.\n",
    "We are going to briefly introduce the `Pool` submodule.\n",
    "\n",
    "Make sure you are still in the `cities` folder."
   ]
  },
  {
   "cell_type": "code",
   "execution_count": null,
   "metadata": {},
   "outputs": [],
   "source": [
    "%pwd"
   ]
  },
  {
   "cell_type": "markdown",
   "metadata": {},
   "source": [
    "The processes for the `multiprocessing` module can be started by initializing a `Pool` instance with the number of processes"
   ]
  },
  {
   "cell_type": "code",
   "execution_count": null,
   "metadata": {},
   "outputs": [],
   "source": [
    "import multiprocessing as mp\n",
    "nprocs = 4\n",
    "pool = mp.Pool(nprocs)"
   ]
  },
  {
   "cell_type": "markdown",
   "metadata": {},
   "source": [
    "The `Pool` instance has a `map` function that works similarly to the `map_sync` function from `ipyparallel`."
   ]
  },
  {
   "cell_type": "markdown",
   "metadata": {},
   "source": [
    "<a id='exercise34'></a>"
   ]
  },
  {
   "cell_type": "markdown",
   "metadata": {},
   "source": [
    "### <font color=\"red\"> *Exercise 3.4* </font>\n",
    "\n",
    "- Using the same function `calc_dist` and dataset `coord_pairs`, provide the function and list of arguments to the `map` function of the `Pool` instance, and time it."
   ]
  },
  {
   "cell_type": "code",
   "execution_count": null,
   "metadata": {},
   "outputs": [],
   "source": [
    "%%timeit\n",
    "output = \n",
    "print(max(output))"
   ]
  },
  {
   "cell_type": "markdown",
   "metadata": {},
   "source": [
    "<a id='exercise35'></a>"
   ]
  },
  {
   "cell_type": "markdown",
   "metadata": {},
   "source": [
    "### <font color=\"red\"> *Exercise 3.5* </font>\n",
    "\n",
    "- Complete the loop below to perform a scaling test of the `Pool.map` function with the example problem"
   ]
  },
  {
   "cell_type": "code",
   "execution_count": null,
   "metadata": {},
   "outputs": [],
   "source": [
    "for nprocs in range(1,4):\n",
    "    ___ = __.___(nprocs)\n",
    "    %timeit output = ___.___(___, ___)"
   ]
  },
  {
   "cell_type": "markdown",
   "metadata": {},
   "source": [
    "#### Limitation of the `multiprocessing` module:\n",
    "\n",
    "+ The spawned processes are bound to a single node and therefore not suitable for large-scale parapllelization on distributed memory system."
   ]
  },
  {
   "cell_type": "markdown",
   "metadata": {},
   "source": [
    "> The latest documentation for the multiprocessing module is here: https://docs.python.org/3.7/library/multiprocessing.html"
   ]
  },
  {
   "cell_type": "markdown",
   "metadata": {},
   "source": [
    "## MPI4Py"
   ]
  },
  {
   "cell_type": "markdown",
   "metadata": {},
   "source": [
    "MPI, the Message Passing Interface, is a standard for parallel programming involving communication between separate parallel processes each with their own separate memory allocation. MPI processes have to pass messages between themselves to invoke code execution and share data between with each other."
   ]
  },
  {
   "cell_type": "markdown",
   "metadata": {},
   "source": [
    "### MPI4Py basics"
   ]
  },
  {
   "cell_type": "markdown",
   "metadata": {},
   "source": [
    "With MPI4Py, it is convenient to obtain the basic MPI settings including the communicator, the rank of the process, and the number of processes."
   ]
  },
  {
   "cell_type": "code",
   "execution_count": null,
   "metadata": {},
   "outputs": [],
   "source": [
    "from mpi4py import MPI\n",
    "\n",
    "comm = MPI.COMM_WORLD\n",
    "rank = comm.Get_rank()\n",
    "size = comm.Get_size()"
   ]
  },
  {
   "cell_type": "markdown",
   "metadata": {},
   "source": [
    "MPI4Py also provides convenient communicating functions like `send`, `recv`, `scatter`, `gather`, etc.\n",
    "\n",
    "There's no automatic mapping but you may find `scatter` and `gather` very useful in practice."
   ]
  },
  {
   "cell_type": "markdown",
   "metadata": {},
   "source": [
    "### Parallelization via MPI4Py"
   ]
  },
  {
   "cell_type": "markdown",
   "metadata": {},
   "source": [
    "Below is an example code of calculating the distances via `mpi4py`."
   ]
  },
  {
   "cell_type": "code",
   "execution_count": null,
   "metadata": {},
   "outputs": [],
   "source": [
    "import time\n",
    "from mpi4py import MPI\n",
    "\n",
    "import dist_cities as dc\n",
    "\n",
    "# MPI settings\n",
    "\n",
    "comm = MPI.COMM_WORLD\n",
    "rank = comm.Get_rank()\n",
    "nprocs = comm.Get_size()\n",
    "\n",
    "# prepare data and determine workloads\n",
    "\n",
    "if rank == 0:\n",
    "    cities = dc.read_cities()\n",
    "    coord_pairs = dc.create_coord_pairs(cities)\n",
    "    npairs = len(coord_pairs)\n",
    "\n",
    "    dn = npairs // nprocs\n",
    "    if npairs % nprocs != 0:\n",
    "        dn += 1\n",
    "\n",
    "# compute via MPI\n",
    "# 1. Slice coord_pairs for processes\n",
    "# 2. Scatter the sliced pieces\n",
    "# 3. Do computation on each process\n",
    "# 4. Gather results to master process\n",
    "# 5. Collect the results into one list\n",
    "\n",
    "t0 = time.time()\n",
    "\n",
    "if rank == 0:\n",
    "    data = [coord_pairs[int(x*dn):int((x+1)*dn)] for x in range(nprocs)]\n",
    "else:\n",
    "    data = None\n",
    "\n",
    "data = comm.scatter(data, root=0)\n",
    "\n",
    "result = [dc.calc_dist(p) for p in data]\n",
    "\n",
    "result = comm.gather(result, root=0)\n",
    "\n",
    "if rank == 0:\n",
    "    output = []\n",
    "    for a in result:\n",
    "        output += a\n",
    "\n",
    "t1 = time.time()\n",
    "\n",
    "if rank == 0:\n",
    "    print(\"Maximum distance: %.0f km\" % max(output))\n",
    "    print(\"Computing time: %.3f sec\" % (t1-t0))"
   ]
  },
  {
   "cell_type": "markdown",
   "metadata": {},
   "source": [
    "Note that MPI4Py should be launched by `mpirun`. In the following exercise we'll use the `%salloc` (or `%sbatch`) magic to launch MPI4Py job from the notebook."
   ]
  },
  {
   "cell_type": "markdown",
   "metadata": {},
   "source": [
    "<a id='exercise36'></a>"
   ]
  },
  {
   "cell_type": "markdown",
   "metadata": {},
   "source": [
    "### <font color=\"red\"> *Exercise 3.6* </font>\n",
    "\n",
    "- Use the `%%writefile` magic to save the code into a `.py` file (e.g. `my_test_mpi.py`).\n",
    "- Use the `%salloc` magic together with `mpirun` to run the code.\n"
   ]
  },
  {
   "cell_type": "code",
   "execution_count": null,
   "metadata": {},
   "outputs": [],
   "source": [
    "%salloc -N 1 -t 5 -A edu18.prace --reservation=prace-2018-10-26 mpirun -n 4 python3 my_test_mpi.py"
   ]
  },
  {
   "cell_type": "markdown",
   "metadata": {},
   "source": []
  }
 ],
 "metadata": {
  "kernelspec": {
   "display_name": "Python 3",
   "language": "python",
   "name": "python3"
  },
  "language_info": {
   "codemirror_mode": {
    "name": "ipython",
    "version": 3
   },
   "file_extension": ".py",
   "mimetype": "text/x-python",
   "name": "python",
   "nbconvert_exporter": "python",
   "pygments_lexer": "ipython3",
   "version": "3.6.6"
  }
 },
 "nbformat": 4,
 "nbformat_minor": 2
}
